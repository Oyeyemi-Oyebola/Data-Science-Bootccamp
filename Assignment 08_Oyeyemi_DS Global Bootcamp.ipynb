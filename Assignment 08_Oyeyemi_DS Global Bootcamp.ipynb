{
 "cells": [
  {
   "cell_type": "code",
   "execution_count": null,
   "id": "92c4b490",
   "metadata": {},
   "outputs": [],
   "source": [
    "from sklearn.ensemble import RandomForestClassifier\n",
    "from sklearn.model_selection import train_test_split\n",
    "from sklearn import metrics\n",
    "import pandas as pd\n",
    "import numpy as np\n",
    "from scipy import stats\n",
    "from math import exp\n",
    "from matplotlib import pyplot as plt\n",
    "import seaborn as sns\n",
    "import statsmodels.api as sm\n",
    "import statsmodels.formula.api as smf"
   ]
  },
  {
   "cell_type": "markdown",
   "id": "417b2d51",
   "metadata": {},
   "source": [
    "#### Q1: Logit Model for Credit Grant Outcome use case\n",
    "A group of 20 customers possess portfolio ranging from 0.5 to 6.5 million USD in one of the largest Financial Services majors in South America. As an analyst you are tasked to find out how the portfolio amount affect the probability of a customer getting a credit grant? Please refer to the dataset provided in\n",
    "GitHub - CreditGrantOutcome.csv."
   ]
  },
  {
   "cell_type": "code",
   "execution_count": 3,
   "id": "e68658cf",
   "metadata": {},
   "outputs": [],
   "source": [
    "CreditGrantOutcome_df = pd.read_csv(\"C:\\\\Users\\\\theco\\\\CreditGrantOutcome.csv\")"
   ]
  },
  {
   "cell_type": "code",
   "execution_count": 4,
   "id": "0883d58d",
   "metadata": {},
   "outputs": [
    {
     "data": {
      "text/html": [
       "<div>\n",
       "<style scoped>\n",
       "    .dataframe tbody tr th:only-of-type {\n",
       "        vertical-align: middle;\n",
       "    }\n",
       "\n",
       "    .dataframe tbody tr th {\n",
       "        vertical-align: top;\n",
       "    }\n",
       "\n",
       "    .dataframe thead th {\n",
       "        text-align: right;\n",
       "    }\n",
       "</style>\n",
       "<table border=\"1\" class=\"dataframe\">\n",
       "  <thead>\n",
       "    <tr style=\"text-align: right;\">\n",
       "      <th></th>\n",
       "      <th>PortfolioValue</th>\n",
       "      <th>CreditGrantDecision</th>\n",
       "    </tr>\n",
       "  </thead>\n",
       "  <tbody>\n",
       "    <tr>\n",
       "      <th>0</th>\n",
       "      <td>0.50</td>\n",
       "      <td>0</td>\n",
       "    </tr>\n",
       "    <tr>\n",
       "      <th>1</th>\n",
       "      <td>0.75</td>\n",
       "      <td>0</td>\n",
       "    </tr>\n",
       "    <tr>\n",
       "      <th>2</th>\n",
       "      <td>1.00</td>\n",
       "      <td>0</td>\n",
       "    </tr>\n",
       "    <tr>\n",
       "      <th>3</th>\n",
       "      <td>1.25</td>\n",
       "      <td>0</td>\n",
       "    </tr>\n",
       "    <tr>\n",
       "      <th>4</th>\n",
       "      <td>1.50</td>\n",
       "      <td>0</td>\n",
       "    </tr>\n",
       "  </tbody>\n",
       "</table>\n",
       "</div>"
      ],
      "text/plain": [
       "   PortfolioValue  CreditGrantDecision\n",
       "0            0.50                    0\n",
       "1            0.75                    0\n",
       "2            1.00                    0\n",
       "3            1.25                    0\n",
       "4            1.50                    0"
      ]
     },
     "execution_count": 4,
     "metadata": {},
     "output_type": "execute_result"
    }
   ],
   "source": [
    "CreditGrantOutcome_df.head()"
   ]
  },
  {
   "cell_type": "code",
   "execution_count": 5,
   "id": "99775d69",
   "metadata": {},
   "outputs": [
    {
     "data": {
      "text/plain": [
       "<matplotlib.collections.PathCollection at 0x26b949adf10>"
      ]
     },
     "execution_count": 5,
     "metadata": {},
     "output_type": "execute_result"
    },
    {
     "data": {
      "image/png": "[encoded data removed]",
      "text/plain": [
       "<Figure size 432x288 with 1 Axes>"
      ]
     },
     "metadata": {
      "needs_background": "light"
     },
     "output_type": "display_data"
    }
   ],
   "source": [
    "#Visualizing the dataset\n",
    "plt.scatter(CreditGrantOutcome_df[\"PortfolioValue\"], CreditGrantOutcome_df[\"CreditGrantDecision\"])"
   ]
  },
  {
   "cell_type": "code",
   "execution_count": 36,
   "id": "bbac56c5",
   "metadata": {},
   "outputs": [
    {
     "name": "stdout",
     "output_type": "stream",
     "text": [
      "Optimization terminated successfully.\n",
      "         Current function value: 0.439195\n",
      "         Iterations 6\n",
      "                            Logit Regression Results                           \n",
      "===============================================================================\n",
      "Dep. Variable:     CreditGrantDecision   No. Observations:                   20\n",
      "Model:                           Logit   Df Residuals:                       18\n",
      "Method:                            MLE   Df Model:                            1\n",
      "Date:                 Sat, 17 Sep 2022   Pseudo R-squ.:                  0.3664\n",
      "Time:                         23:52:46   Log-Likelihood:                -8.7839\n",
      "converged:                        True   LL-Null:                       -13.863\n",
      "Covariance Type:             nonrobust   LLR p-value:                  0.001437\n",
      "==================================================================================\n",
      "                     coef    std err          z      P>|z|      [0.025      0.975]\n",
      "----------------------------------------------------------------------------------\n",
      "Intercept         -2.9519      1.337     -2.208      0.027      -5.572      -0.332\n",
      "PortfolioValue     1.2552      0.524      2.396      0.017       0.228       2.282\n",
      "==================================================================================\n"
     ]
    }
   ],
   "source": [
    "from sklearn.preprocessing import LabelEncoder\n",
    "number = LabelEncoder()\n",
    "CreditGrantOutcome_df['CreditGrantDecision'] = number.fit_transform(CreditGrantOutcome_df['CreditGrantDecision'].astype('str')) \n",
    "CreditGrantOutcome_df['PortfolioValue'] = number.fit_transform(CreditGrantOutcome_df['PortfolioValue'].astype('int'))\n",
    "model = smf.logit(formula=\"CreditGrantDecision~ + PortfolioValue\", data = CreditGrantOutcome_df).fit()\n",
    "print(model.summary())"
   ]
  },
  {
   "cell_type": "code",
   "execution_count": 31,
   "id": "2997d977",
   "metadata": {},
   "outputs": [
    {
     "name": "stdout",
     "output_type": "stream",
     "text": [
      "                      OR   Z-Value      2.5%     97.5%\n",
      "Intercept       0.052239  0.027215  0.003804  0.717412\n",
      "PortfolioValue  3.508652  0.016582  1.256545  9.797213\n"
     ]
    }
   ],
   "source": [
    "model_odd=pd.DataFrame(np.exp(model.params), columns = ['OR'])\n",
    "model_odd['Z-Value'] = model.pvalues\n",
    "model_odd[['2.5%', '97.5%']] = np.exp(model.conf_int())\n",
    "print(model_odd)"
   ]
  },
  {
   "cell_type": "markdown",
   "id": "16f8af81",
   "metadata": {},
   "source": [
    "b0 = 0.05, b1 = 3.51"
   ]
  },
  {
   "cell_type": "markdown",
   "id": "427d4a81",
   "metadata": {},
   "source": [
    "y = b0 + b1 * x1\n",
    " when x1 = 2"
   ]
  },
  {
   "cell_type": "code",
   "execution_count": 48,
   "id": "1ddace72",
   "metadata": {},
   "outputs": [
    {
     "name": "stdout",
     "output_type": "stream",
     "text": [
      "7.069999999999999\n"
     ]
    }
   ],
   "source": [
    "y = 0.05 + 3.51 * 2\n",
    "print(y)"
   ]
  },
  {
   "cell_type": "markdown",
   "id": "4b7d9a4b",
   "metadata": {},
   "source": [
    "### Q2: Confusion Matrix Scenario\n",
    "You are working on a binary classification model to predict which devices are going to fail or not fail in the\n",
    "future. What is the accuracy of your model given the confusion matrix below? (Rounded to 1 place after decimal)"
   ]
  },
  {
   "cell_type": "code",
   "execution_count": null,
   "id": "7a07d653",
   "metadata": {},
   "outputs": [],
   "source": [
    "df = pd.DataFrame([\n",
    "    [371, 84], \n",
    "    [65, 122],\n",
    "], columns = [\"x\", \"y\"])"
   ]
  },
  {
   "cell_type": "code",
   "execution_count": null,
   "id": "1eec4b46",
   "metadata": {},
   "outputs": [],
   "source": [
    "df"
   ]
  },
  {
   "cell_type": "code",
   "execution_count": null,
   "id": "759becdc",
   "metadata": {},
   "outputs": [],
   "source": [
    "tab = pd.crosstab(df['x'], df['y'])"
   ]
  },
  {
   "cell_type": "code",
   "execution_count": null,
   "id": "bb1c0543",
   "metadata": {},
   "outputs": [],
   "source": [
    "tab = pd.crosstab(df['x'], df['y'])\n",
    "np.diag(tab).sum() / tab.to_numpy().sum()"
   ]
  },
  {
   "cell_type": "code",
   "execution_count": null,
   "id": "307b9278",
   "metadata": {},
   "outputs": [],
   "source": [
    "from sklearn.metrics import accuracy_score, confusion_matrix\n",
    "\n",
    "def confusion_matrix_scorer(df, X, y):\n",
    "      y_pred = df.predict(X)\n",
    "      cm = confusion_matrix(y, y_pred)\n",
    "      acc = accuracy_score(y, y_pred)\n",
    "      return {\n",
    "          'acc': acc,\n",
    "          'tn': cm[0, 0], \n",
    "          'fp': cm[0, 1],\n",
    "          'fn': cm[1, 0], \n",
    "          'tp': cm[1, 1]\n",
    "      }"
   ]
  },
  {
   "cell_type": "markdown",
   "id": "9515df53",
   "metadata": {},
   "source": [
    "### Q3: Logit/GLM Model for Insurance Cross Sell use case\n",
    "The insurance major is interested to understand the cross-sell opportunities by analysing the information it\n",
    "has. As a Data Scientist, you have access to the Insurance Cross Sell data. (Please refer to GitHub -\n",
    "InsuranceCrossSell.csv)."
   ]
  },
  {
   "cell_type": "code",
   "execution_count": 49,
   "id": "18b9f5b2",
   "metadata": {},
   "outputs": [],
   "source": [
    "InsuranceCrossSell_df = pd.read_csv(\"C:\\\\Users\\\\theco\\\\InsuranceCrossSell.csv\")"
   ]
  },
  {
   "cell_type": "code",
   "execution_count": 50,
   "id": "4737d1f9",
   "metadata": {},
   "outputs": [
    {
     "data": {
      "text/html": [
       "<div>\n",
       "<style scoped>\n",
       "    .dataframe tbody tr th:only-of-type {\n",
       "        vertical-align: middle;\n",
       "    }\n",
       "\n",
       "    .dataframe tbody tr th {\n",
       "        vertical-align: top;\n",
       "    }\n",
       "\n",
       "    .dataframe thead th {\n",
       "        text-align: right;\n",
       "    }\n",
       "</style>\n",
       "<table border=\"1\" class=\"dataframe\">\n",
       "  <thead>\n",
       "    <tr style=\"text-align: right;\">\n",
       "      <th></th>\n",
       "      <th>0</th>\n",
       "      <th>1</th>\n",
       "      <th>2</th>\n",
       "      <th>3</th>\n",
       "      <th>4</th>\n",
       "    </tr>\n",
       "  </thead>\n",
       "  <tbody>\n",
       "    <tr>\n",
       "      <th>id</th>\n",
       "      <td>1</td>\n",
       "      <td>2</td>\n",
       "      <td>3</td>\n",
       "      <td>4</td>\n",
       "      <td>5</td>\n",
       "    </tr>\n",
       "    <tr>\n",
       "      <th>Gender</th>\n",
       "      <td>Male</td>\n",
       "      <td>Male</td>\n",
       "      <td>Male</td>\n",
       "      <td>Male</td>\n",
       "      <td>Female</td>\n",
       "    </tr>\n",
       "    <tr>\n",
       "      <th>Age</th>\n",
       "      <td>44</td>\n",
       "      <td>76</td>\n",
       "      <td>47</td>\n",
       "      <td>21</td>\n",
       "      <td>29</td>\n",
       "    </tr>\n",
       "    <tr>\n",
       "      <th>Driving_License</th>\n",
       "      <td>1</td>\n",
       "      <td>1</td>\n",
       "      <td>1</td>\n",
       "      <td>1</td>\n",
       "      <td>1</td>\n",
       "    </tr>\n",
       "    <tr>\n",
       "      <th>Region_Code</th>\n",
       "      <td>28.0</td>\n",
       "      <td>3.0</td>\n",
       "      <td>28.0</td>\n",
       "      <td>11.0</td>\n",
       "      <td>41.0</td>\n",
       "    </tr>\n",
       "    <tr>\n",
       "      <th>Previously_Insured</th>\n",
       "      <td>0</td>\n",
       "      <td>0</td>\n",
       "      <td>0</td>\n",
       "      <td>1</td>\n",
       "      <td>1</td>\n",
       "    </tr>\n",
       "    <tr>\n",
       "      <th>Vehicle_Age</th>\n",
       "      <td>&gt; 2 Years</td>\n",
       "      <td>1-2 Year</td>\n",
       "      <td>&gt; 2 Years</td>\n",
       "      <td>&lt; 1 Year</td>\n",
       "      <td>&lt; 1 Year</td>\n",
       "    </tr>\n",
       "    <tr>\n",
       "      <th>Vehicle_Damage</th>\n",
       "      <td>Yes</td>\n",
       "      <td>No</td>\n",
       "      <td>Yes</td>\n",
       "      <td>No</td>\n",
       "      <td>No</td>\n",
       "    </tr>\n",
       "    <tr>\n",
       "      <th>Annual_Premium</th>\n",
       "      <td>40454.0</td>\n",
       "      <td>33536.0</td>\n",
       "      <td>38294.0</td>\n",
       "      <td>28619.0</td>\n",
       "      <td>27496.0</td>\n",
       "    </tr>\n",
       "    <tr>\n",
       "      <th>Policy_Sales_Channel</th>\n",
       "      <td>26.0</td>\n",
       "      <td>26.0</td>\n",
       "      <td>26.0</td>\n",
       "      <td>152.0</td>\n",
       "      <td>152.0</td>\n",
       "    </tr>\n",
       "    <tr>\n",
       "      <th>Vintage</th>\n",
       "      <td>217</td>\n",
       "      <td>183</td>\n",
       "      <td>27</td>\n",
       "      <td>203</td>\n",
       "      <td>39</td>\n",
       "    </tr>\n",
       "    <tr>\n",
       "      <th>Response</th>\n",
       "      <td>1</td>\n",
       "      <td>0</td>\n",
       "      <td>1</td>\n",
       "      <td>0</td>\n",
       "      <td>0</td>\n",
       "    </tr>\n",
       "  </tbody>\n",
       "</table>\n",
       "</div>"
      ],
      "text/plain": [
       "                              0         1          2         3         4\n",
       "id                            1         2          3         4         5\n",
       "Gender                     Male      Male       Male      Male    Female\n",
       "Age                          44        76         47        21        29\n",
       "Driving_License               1         1          1         1         1\n",
       "Region_Code                28.0       3.0       28.0      11.0      41.0\n",
       "Previously_Insured            0         0          0         1         1\n",
       "Vehicle_Age           > 2 Years  1-2 Year  > 2 Years  < 1 Year  < 1 Year\n",
       "Vehicle_Damage              Yes        No        Yes        No        No\n",
       "Annual_Premium          40454.0   33536.0    38294.0   28619.0   27496.0\n",
       "Policy_Sales_Channel       26.0      26.0       26.0     152.0     152.0\n",
       "Vintage                     217       183         27       203        39\n",
       "Response                      1         0          1         0         0"
      ]
     },
     "execution_count": 50,
     "metadata": {},
     "output_type": "execute_result"
    }
   ],
   "source": [
    "InsuranceCrossSell_df.head().T"
   ]
  },
  {
   "cell_type": "code",
   "execution_count": 51,
   "id": "efe8b066",
   "metadata": {},
   "outputs": [],
   "source": [
    "# Categorical variables have to be converted to dummies, before passing into the model.\n",
    "cat_var = ['Gender', 'Driving_License', 'Previously_Insured', 'Vehicle_Age', 'Vehicle_Damage', 'Response']\n",
    "\n",
    "# Numerical Variables\n",
    "num_var = ['Age', 'Region_COde','Annual_Premium', 'Policy_Sales_Channel', 'Vintage']"
   ]
  },
  {
   "cell_type": "code",
   "execution_count": 52,
   "id": "f80b6427",
   "metadata": {},
   "outputs": [],
   "source": [
    "model_df = pd.get_dummies(data=InsuranceCrossSell_df, \n",
    "                          columns=cat_var,\n",
    "                          drop_first = True)\n",
    "model_df.drop(columns='id', inplace=True)"
   ]
  },
  {
   "cell_type": "code",
   "execution_count": 53,
   "id": "b3ead9c0",
   "metadata": {},
   "outputs": [
    {
     "data": {
      "text/plain": [
       "Index(['Age', 'Region_Code', 'Annual_Premium', 'Policy_Sales_Channel',\n",
       "       'Vintage', 'Gender_Male', 'Driving_License_1', 'Previously_Insured_1',\n",
       "       'Vehicle_Age_< 1 Year', 'Vehicle_Age_> 2 Years', 'Vehicle_Damage_Yes',\n",
       "       'Response_1'],\n",
       "      dtype='object')"
      ]
     },
     "execution_count": 53,
     "metadata": {},
     "output_type": "execute_result"
    }
   ],
   "source": [
    "model_df.columns"
   ]
  },
  {
   "cell_type": "code",
   "execution_count": 59,
   "id": "60099c34",
   "metadata": {},
   "outputs": [],
   "source": [
    "Y = model_df['Driving_License_1']\n",
    "X = model_df.drop(columns='Driving_License_1')\n",
    "X = sm.add_constant(X)"
   ]
  },
  {
   "cell_type": "code",
   "execution_count": 60,
   "id": "0f306dd1",
   "metadata": {},
   "outputs": [
    {
     "data": {
      "image/png": "[encoded data removed]",
      "text/plain": [
       "<Figure size 432x288 with 1 Axes>"
      ]
     },
     "metadata": {},
     "output_type": "display_data"
    }
   ],
   "source": [
    "#Distrubution of InsuranceCrossSell variable\n",
    "y_freq = Y.value_counts()\n",
    "plt.pie(y_freq, labels=y_freq.index )\n",
    "plt.show() "
   ]
  },
  {
   "cell_type": "code",
   "execution_count": 61,
   "id": "9dc62f09",
   "metadata": {},
   "outputs": [
    {
     "name": "stdout",
     "output_type": "stream",
     "text": [
      "Optimization terminated successfully.\n",
      "         Current function value: 0.002114\n",
      "         Iterations 16\n"
     ]
    }
   ],
   "source": [
    "# Fit the logit model\n",
    "logit_model = sm.Logit(Y,X)\n",
    "result = logit_model.fit()"
   ]
  },
  {
   "cell_type": "code",
   "execution_count": 63,
   "id": "0fa26bf1",
   "metadata": {},
   "outputs": [
    {
     "name": "stdout",
     "output_type": "stream",
     "text": [
      "                            Results: Logit\n",
      "======================================================================\n",
      "Model:                 Logit              Pseudo R-squared:  inf      \n",
      "Dependent Variable:    Driving_License_1  AIC:               1635.2878\n",
      "Date:                  2022-09-18 14:06   BIC:               1765.4978\n",
      "No. Observations:      381109             Log-Likelihood:    -805.64  \n",
      "Df Model:              11                 LL-Null:           0.0000   \n",
      "Df Residuals:          381097             LLR p-value:       1.0000   \n",
      "Converged:             1.0000             Scale:             1.0000   \n",
      "No. Iterations:        16.0000                                        \n",
      "----------------------------------------------------------------------\n",
      "                       Coef.  Std.Err.    z     P>|z|   [0.025  0.975]\n",
      "----------------------------------------------------------------------\n",
      "const                 11.5707   0.2850  40.5920 0.0000 11.0120 12.1293\n",
      "Age                   -0.1010   0.0033 -31.0033 0.0000 -0.1074 -0.0946\n",
      "Region_Code            0.0034   0.0029   1.1901 0.2340 -0.0022  0.0091\n",
      "Annual_Premium        -0.0000   0.0000  -2.5213 0.0117 -0.0000 -0.0000\n",
      "Policy_Sales_Channel   0.0041   0.0007   5.8105 0.0000  0.0027  0.0055\n",
      "Vintage               -0.0002   0.0004  -0.5818 0.5607 -0.0011  0.0006\n",
      "Gender_Male           -0.6276   0.0806  -7.7819 0.0000 -0.7857 -0.4695\n",
      "Previously_Insured_1   0.2840   0.1222   2.3234 0.0202  0.0444  0.5235\n",
      "Vehicle_Age_< 1 Year   2.8110   1.0080   2.7886 0.0053  0.8353  4.7867\n",
      "Vehicle_Age_> 2 Years  0.6250   0.1425   4.3851 0.0000  0.3457  0.9044\n",
      "Vehicle_Damage_Yes    -0.2593   0.1202  -2.1561 0.0311 -0.4949 -0.0236\n",
      "Response_1             1.0700   0.1638   6.5314 0.0000  0.7489  1.3911\n",
      "======================================================================\n",
      "\n"
     ]
    }
   ],
   "source": [
    "import warnings\n",
    "warnings.filterwarnings('ignore')\n",
    "print(result.summary2())"
   ]
  },
  {
   "cell_type": "markdown",
   "id": "ffea48d2",
   "metadata": {},
   "source": [
    "### 1. Likelihood Ratio Test: The LLR-p-value is 1.0000 (>>0.05), indicating that the model overall is not significant.\n",
    "### 2. Wald's Test: We see that two (2) variables have p-value corresponding to the Wlad's test >0.05. We will remove those and retrain the model"
   ]
  },
  {
   "cell_type": "code",
   "execution_count": 64,
   "id": "826087da",
   "metadata": {},
   "outputs": [],
   "source": [
    "def get_significant_vars(model, alpha=0.05):\n",
    "    \n",
    "    #store the variable and p-values in a dataframe\n",
    "    p_vals = pd.DataFrame(model.pvalues)  \n",
    "    p_vals['vars'] = p_vals.index\n",
    "    p_vals.columns = ['pval', 'name']\n",
    "    \n",
    "    #return those that are significant at alpha value\n",
    "    return list(p_vals[p_vals.pval <= alpha]['name'])"
   ]
  },
  {
   "cell_type": "code",
   "execution_count": 65,
   "id": "52dad41e",
   "metadata": {},
   "outputs": [],
   "source": [
    "significant_vars = get_significant_vars(result)"
   ]
  },
  {
   "cell_type": "code",
   "execution_count": 66,
   "id": "4b1024f0",
   "metadata": {},
   "outputs": [
    {
     "name": "stdout",
     "output_type": "stream",
     "text": [
      "Optimization terminated successfully.\n",
      "         Current function value: 0.002114\n",
      "         Iterations 16\n",
      "                            Results: Logit\n",
      "======================================================================\n",
      "Model:                 Logit              Pseudo R-squared:  inf      \n",
      "Dependent Variable:    Driving_License_1  AIC:               1631.2948\n",
      "Date:                  2022-09-18 14:20   BIC:               1739.8032\n",
      "No. Observations:      381109             Log-Likelihood:    -805.65  \n",
      "Df Model:              9                  LL-Null:           0.0000   \n",
      "Df Residuals:          381099             LLR p-value:       1.0000   \n",
      "Converged:             1.0000             Scale:             1.0000   \n",
      "No. Iterations:        16.0000                                        \n",
      "----------------------------------------------------------------------\n",
      "                       Coef.  Std.Err.    z     P>|z|   [0.025  0.975]\n",
      "----------------------------------------------------------------------\n",
      "const                 11.6237   0.2666  43.5956 0.0000 11.1011 12.1463\n",
      "Age                   -0.1009   0.0033 -30.9944 0.0000 -0.1073 -0.0945\n",
      "Annual_Premium        -0.0000   0.0000  -2.5567 0.0106 -0.0000 -0.0000\n",
      "Policy_Sales_Channel   0.0041   0.0007   5.7865 0.0000  0.0027  0.0055\n",
      "Gender_Male           -0.6295   0.0806  -7.8081 0.0000 -0.7875 -0.4715\n",
      "Previously_Insured_1   0.2837   0.1222   2.3206 0.0203  0.0441  0.5233\n",
      "Vehicle_Age_< 1 Year   2.8106   1.0080   2.7882 0.0053  0.8349  4.7864\n",
      "Vehicle_Age_> 2 Years  0.6274   0.1425   4.4020 0.0000  0.3480  0.9067\n",
      "Vehicle_Damage_Yes    -0.2592   0.1203  -2.1553 0.0311 -0.4950 -0.0235\n",
      "Response_1             1.0699   0.1638   6.5307 0.0000  0.7488  1.3910\n",
      "======================================================================\n",
      "\n"
     ]
    }
   ],
   "source": [
    "# Fit the logit model\n",
    "X_new = X[significant_vars] #constant is already added          \n",
    "\n",
    "logit_model = sm.Logit(Y,X_new)\n",
    "final_model = logit_model.fit()\n",
    "print(final_model.summary2())"
   ]
  },
  {
   "cell_type": "markdown",
   "id": "c3ca9b6d",
   "metadata": {},
   "source": [
    "#### The model overall is not significant, sinceLLR p-value > 0.05, but the predictors with p-value < 0.05 are significant in the model"
   ]
  }
 ],
 "metadata": {
  "kernelspec": {
   "display_name": "Python 3 (ipykernel)",
   "language": "python",
   "name": "python3"
  },
  "language_info": {
   "codemirror_mode": {
    "name": "ipython",
    "version": 3
   },
   "file_extension": ".py",
   "mimetype": "text/x-python",
   "name": "python",
   "nbconvert_exporter": "python",
   "pygments_lexer": "ipython3",
   "version": "3.9.12"
  }
 },
 "nbformat": 4,
 "nbformat_minor": 5
}
