{
 "cells": [
  {
   "cell_type": "markdown",
   "id": "40a012a4",
   "metadata": {},
   "source": [
    "## AccelerateAI - Python for Data Science - Assignment 06\n",
    "#### Multiple Linear Regression"
   ]
  },
  {
   "cell_type": "code",
   "execution_count": 35,
   "id": "30c947d7",
   "metadata": {},
   "outputs": [],
   "source": [
    "import numpy as np\n",
    "import pandas as pd\n",
    "from scipy.stats import pearsonr, linregress\n",
    "import matplotlib.pyplot as plt\n",
    "import seaborn as sns\n",
    "from sklearn.linear_model import LinearRegression\n",
    "import statsmodels.api as sm\n",
    "import warnings\n",
    "warnings.filterwarnings('ignore')"
   ]
  },
  {
   "cell_type": "markdown",
   "id": "63b0dbe9",
   "metadata": {},
   "source": [
    "#### Q1: MLR with 2 or more variables – Machine tools company\n",
    "Benedrix, a machine tool company is interested in understand the impact of machine\n",
    "hours and production run, on its overhead cost.\n",
    "The data on a monthly basis for 3 years is provided in the dataset:\n",
    "#### MLR_FactoryOverhead.csv\n",
    "Fit the regression equations:\n",
    "• Overhead = F (machine hours)\n",
    "• Overhead = F (production runs)\n",
    "• Overhead = F (machine hours, production runs)\n",
    "1) Find the R-Squared in all 3 cases.\n",
    "2) How would you explain the additional lift in R-squared of the combined model vs each of the individual model? "
   ]
  },
  {
   "cell_type": "code",
   "execution_count": 3,
   "id": "a883949e",
   "metadata": {},
   "outputs": [],
   "source": [
    "MLR_Factory = pd.read_csv(\"C:\\\\Users\\\\theco\\\\MLR_FactoryOverhead.csv\")"
   ]
  },
  {
   "cell_type": "code",
   "execution_count": 4,
   "id": "94236fc1",
   "metadata": {},
   "outputs": [
    {
     "data": {
      "text/html": [
       "<div>\n",
       "<style scoped>\n",
       "    .dataframe tbody tr th:only-of-type {\n",
       "        vertical-align: middle;\n",
       "    }\n",
       "\n",
       "    .dataframe tbody tr th {\n",
       "        vertical-align: top;\n",
       "    }\n",
       "\n",
       "    .dataframe thead th {\n",
       "        text-align: right;\n",
       "    }\n",
       "</style>\n",
       "<table border=\"1\" class=\"dataframe\">\n",
       "  <thead>\n",
       "    <tr style=\"text-align: right;\">\n",
       "      <th></th>\n",
       "      <th>Month</th>\n",
       "      <th>Machine Hours</th>\n",
       "      <th>Production Runs</th>\n",
       "      <th>Overhead Cost</th>\n",
       "    </tr>\n",
       "  </thead>\n",
       "  <tbody>\n",
       "    <tr>\n",
       "      <th>0</th>\n",
       "      <td>1</td>\n",
       "      <td>1539</td>\n",
       "      <td>31</td>\n",
       "      <td>99798</td>\n",
       "    </tr>\n",
       "    <tr>\n",
       "      <th>1</th>\n",
       "      <td>2</td>\n",
       "      <td>1284</td>\n",
       "      <td>29</td>\n",
       "      <td>87804</td>\n",
       "    </tr>\n",
       "    <tr>\n",
       "      <th>2</th>\n",
       "      <td>3</td>\n",
       "      <td>1490</td>\n",
       "      <td>27</td>\n",
       "      <td>93681</td>\n",
       "    </tr>\n",
       "    <tr>\n",
       "      <th>3</th>\n",
       "      <td>4</td>\n",
       "      <td>1355</td>\n",
       "      <td>22</td>\n",
       "      <td>82262</td>\n",
       "    </tr>\n",
       "    <tr>\n",
       "      <th>4</th>\n",
       "      <td>5</td>\n",
       "      <td>1500</td>\n",
       "      <td>35</td>\n",
       "      <td>106968</td>\n",
       "    </tr>\n",
       "  </tbody>\n",
       "</table>\n",
       "</div>"
      ],
      "text/plain": [
       "   Month  Machine Hours  Production Runs  Overhead Cost\n",
       "0      1           1539               31          99798\n",
       "1      2           1284               29          87804\n",
       "2      3           1490               27          93681\n",
       "3      4           1355               22          82262\n",
       "4      5           1500               35         106968"
      ]
     },
     "execution_count": 4,
     "metadata": {},
     "output_type": "execute_result"
    }
   ],
   "source": [
    "MLR_Factory.head()"
   ]
  },
  {
   "cell_type": "markdown",
   "id": "c962ce6b",
   "metadata": {},
   "source": [
    "OverheadCost = β0 + (β1 * Machine_Hours) + (β2 * Production_Runs) + e"
   ]
  },
  {
   "cell_type": "code",
   "execution_count": 5,
   "id": "2119fc1f",
   "metadata": {},
   "outputs": [],
   "source": [
    "#Setting the value for X and Y\n",
    "x = MLR_Factory[['Machine Hours', 'Production Runs']]\n",
    "y = MLR_Factory['Overhead Cost']"
   ]
  },
  {
   "cell_type": "code",
   "execution_count": 6,
   "id": "8a55b749",
   "metadata": {},
   "outputs": [],
   "source": [
    "#Splitting the dataset\n",
    "from sklearn.model_selection import train_test_split\n",
    "x_train, x_test, y_train, y_test = train_test_split(x, y, test_size = 0.3, random_state = 100)"
   ]
  },
  {
   "cell_type": "code",
   "execution_count": 7,
   "id": "251db60e",
   "metadata": {},
   "outputs": [
    {
     "data": {
      "text/plain": [
       "LinearRegression()"
      ]
     },
     "execution_count": 7,
     "metadata": {},
     "output_type": "execute_result"
    }
   ],
   "source": [
    "#Fitting the Multiple Linear Regression model\n",
    "mlr =  LinearRegression()  \n",
    "mlr.fit(x_train, y_train)"
   ]
  },
  {
   "cell_type": "markdown",
   "id": "abaf0b99",
   "metadata": {},
   "source": [
    "(a.)"
   ]
  },
  {
   "cell_type": "code",
   "execution_count": 8,
   "id": "e6c89e6f",
   "metadata": {},
   "outputs": [
    {
     "name": "stdout",
     "output_type": "stream",
     "text": [
      "                            OLS Regression Results                            \n",
      "==============================================================================\n",
      "Dep. Variable:          Overhead Cost   R-squared:                       0.324\n",
      "Model:                            OLS   Adj. R-squared:                  0.295\n",
      "Method:                 Least Squares   F-statistic:                     11.03\n",
      "Date:                Mon, 05 Sep 2022   Prob (F-statistic):            0.00297\n",
      "Time:                        17:36:04   Log-Likelihood:                -260.95\n",
      "No. Observations:                  25   AIC:                             525.9\n",
      "Df Residuals:                      23   BIC:                             528.3\n",
      "Df Model:                           1                                         \n",
      "Covariance Type:            nonrobust                                         \n",
      "=================================================================================\n",
      "                    coef    std err          t      P>|t|      [0.025      0.975]\n",
      "---------------------------------------------------------------------------------\n",
      "const          4.984e+04   1.45e+04      3.435      0.002    1.98e+04    7.99e+04\n",
      "Machine Hours    33.0755      9.958      3.322      0.003      12.476      53.675\n",
      "==============================================================================\n",
      "Omnibus:                        0.707   Durbin-Watson:                   2.309\n",
      "Prob(Omnibus):                  0.702   Jarque-Bera (JB):                0.705\n",
      "Skew:                          -0.138   Prob(JB):                        0.703\n",
      "Kurtosis:                       2.225   Cond. No.                     1.23e+04\n",
      "==============================================================================\n",
      "\n",
      "Notes:\n",
      "[1] Standard Errors assume that the covariance matrix of the errors is correctly specified.\n",
      "[2] The condition number is large, 1.23e+04. This might indicate that there are\n",
      "strong multicollinearity or other numerical problems.\n"
     ]
    }
   ],
   "source": [
    "x = x_train.drop('Production Runs', 1,)\n",
    "\n",
    "# Build a fitted model after dropping the variable\n",
    "x_train_lm = sm.add_constant(x)\n",
    "\n",
    "lr_1 = sm.OLS(y_train, x_train_lm).fit()\n",
    "\n",
    "# Printing the summary of the model\n",
    "print(lr_1.summary())"
   ]
  },
  {
   "cell_type": "markdown",
   "id": "e939b40e",
   "metadata": {},
   "source": [
    "Regression Equation: OverheadCost = 49840 + 33.0755 * Machine Hours"
   ]
  },
  {
   "cell_type": "code",
   "execution_count": null,
   "id": "f7b27818",
   "metadata": {},
   "outputs": [],
   "source": [
    "There is likelihood of stong multicollinearity and this suggest that the machine hours does\n",
    "not necessarily impact the overhead cost."
   ]
  },
  {
   "cell_type": "markdown",
   "id": "b6d9d28a",
   "metadata": {},
   "source": [
    "(b.)"
   ]
  },
  {
   "cell_type": "code",
   "execution_count": 9,
   "id": "cd01e706",
   "metadata": {},
   "outputs": [
    {
     "name": "stdout",
     "output_type": "stream",
     "text": [
      "                            OLS Regression Results                            \n",
      "==============================================================================\n",
      "Dep. Variable:          Overhead Cost   R-squared:                       0.309\n",
      "Model:                            OLS   Adj. R-squared:                  0.279\n",
      "Method:                 Least Squares   F-statistic:                     10.28\n",
      "Date:                Mon, 05 Sep 2022   Prob (F-statistic):            0.00393\n",
      "Time:                        17:36:17   Log-Likelihood:                -261.23\n",
      "No. Observations:                  25   AIC:                             526.5\n",
      "Df Residuals:                      23   BIC:                             528.9\n",
      "Df Model:                           1                                         \n",
      "Covariance Type:            nonrobust                                         \n",
      "===================================================================================\n",
      "                      coef    std err          t      P>|t|      [0.025      0.975]\n",
      "-----------------------------------------------------------------------------------\n",
      "const            7.428e+04   7510.995      9.889      0.000    5.87e+04    8.98e+04\n",
      "Production Runs   659.3544    205.695      3.205      0.004     233.842    1084.867\n",
      "==============================================================================\n",
      "Omnibus:                        1.095   Durbin-Watson:                   1.932\n",
      "Prob(Omnibus):                  0.578   Jarque-Bera (JB):                0.525\n",
      "Skew:                          -0.354   Prob(JB):                        0.769\n",
      "Kurtosis:                       3.042   Cond. No.                         158.\n",
      "==============================================================================\n",
      "\n",
      "Notes:\n",
      "[1] Standard Errors assume that the covariance matrix of the errors is correctly specified.\n"
     ]
    }
   ],
   "source": [
    "x = x_train.drop('Machine Hours', 1,)\n",
    "\n",
    "# Build a fitted model after dropping the variable\n",
    "x_train_lm = sm.add_constant(x)\n",
    "\n",
    "lr_2 = sm.OLS(y_train, x_train_lm).fit()\n",
    "\n",
    "# Printing the summary of the model\n",
    "print(lr_2.summary())"
   ]
  },
  {
   "cell_type": "markdown",
   "id": "71478c95",
   "metadata": {},
   "source": [
    "Regression Equation: OverheadCost = 74280 + 659.3544 * Production Runs"
   ]
  },
  {
   "cell_type": "markdown",
   "id": "7c27e47e",
   "metadata": {},
   "source": [
    "(c.)"
   ]
  },
  {
   "cell_type": "code",
   "execution_count": 65,
   "id": "3a6a2858",
   "metadata": {},
   "outputs": [
    {
     "name": "stdout",
     "output_type": "stream",
     "text": [
      "Intercept:  4752.554843900842\n",
      "Coefficients:\n"
     ]
    },
    {
     "data": {
      "text/plain": [
       "[('Machine Hours', 42.99839142990892), ('Production Runs', 865.1163483299028)]"
      ]
     },
     "execution_count": 65,
     "metadata": {},
     "output_type": "execute_result"
    }
   ],
   "source": [
    "#Intercept and Coefficient\n",
    "print(\"Intercept: \", mlr.intercept_)\n",
    "print(\"Coefficients:\")\n",
    "list(zip(x, mlr.coef_))"
   ]
  },
  {
   "cell_type": "code",
   "execution_count": null,
   "id": "dc2f6e9a",
   "metadata": {},
   "outputs": [],
   "source": [
    "Regression Equation: Overhead Cost = 4752.5548 + (42.9984 * Machine Hours) + (865.1163 * Production Hours) + e"
   ]
  },
  {
   "cell_type": "code",
   "execution_count": null,
   "id": "405186f7",
   "metadata": {},
   "outputs": [],
   "source": [
    "From the above-obtained equation for the Multiple Linear Regression Model,\n",
    "we can see that the value of intercept is 4752.5548, which shows that if we keep\n",
    "the machine hours and production runs as 0, the estimated average overhead cost will\n",
    "be 4752.5548 and a single increase in the machine hours increases overhead cost by 42.9984,\n",
    "the production runs will increase overhead cost by 865.1163."
   ]
  },
  {
   "cell_type": "markdown",
   "id": "ffc2e7e6",
   "metadata": {},
   "source": [
    "#### Q2. MLR with categorical variables – Courier Service\n",
    "GoKart is a regional delivery service company providing different types of package\n",
    "delivery services. An analyst wants to estimate the cost of shipping a package as\n",
    "function of cargo type.\n",
    "Cost of 15 randomly chosen packages of approximately the same weight, shipped to\n",
    "almost similar distance, is provided in the file:\n",
    "#### MLR_CourierService.csv\n",
    "1) Estimate the appropriate multiple linear regression equation to predict the cost of\n",
    "shipping a package.\n",
    "2) Provide interpretation for the regression coefficients.\n",
    "3) Which cargo type is the costliest? Which one is least costly?\n",
    "4) How well does the regression fit the sample data? How can the goodness of fitness\n",
    "be improved?\n",
    "5) Predict the cost of shipping a package with semi-fragile cargo."
   ]
  },
  {
   "cell_type": "code",
   "execution_count": 111,
   "id": "d9aac9da",
   "metadata": {},
   "outputs": [],
   "source": [
    "MLR_Courier = pd.read_csv(\"C:\\\\Users\\\\theco\\\\MLR_CourierService.csv\")"
   ]
  },
  {
   "cell_type": "code",
   "execution_count": 112,
   "id": "0d80e743",
   "metadata": {},
   "outputs": [
    {
     "data": {
      "text/html": [
       "<div>\n",
       "<style scoped>\n",
       "    .dataframe tbody tr th:only-of-type {\n",
       "        vertical-align: middle;\n",
       "    }\n",
       "\n",
       "    .dataframe tbody tr th {\n",
       "        vertical-align: top;\n",
       "    }\n",
       "\n",
       "    .dataframe thead th {\n",
       "        text-align: right;\n",
       "    }\n",
       "</style>\n",
       "<table border=\"1\" class=\"dataframe\">\n",
       "  <thead>\n",
       "    <tr style=\"text-align: right;\">\n",
       "      <th></th>\n",
       "      <th>Shipment</th>\n",
       "      <th>CargType</th>\n",
       "      <th>CosoShipment</th>\n",
       "    </tr>\n",
       "  </thead>\n",
       "  <tbody>\n",
       "    <tr>\n",
       "      <th>0</th>\n",
       "      <td>1</td>\n",
       "      <td>Semifragile</td>\n",
       "      <td>84.0</td>\n",
       "    </tr>\n",
       "    <tr>\n",
       "      <th>1</th>\n",
       "      <td>2</td>\n",
       "      <td>Durable</td>\n",
       "      <td>24.0</td>\n",
       "    </tr>\n",
       "    <tr>\n",
       "      <th>2</th>\n",
       "      <td>3</td>\n",
       "      <td>Fragile</td>\n",
       "      <td>165.6</td>\n",
       "    </tr>\n",
       "    <tr>\n",
       "      <th>3</th>\n",
       "      <td>4</td>\n",
       "      <td>Fragile</td>\n",
       "      <td>133.2</td>\n",
       "    </tr>\n",
       "    <tr>\n",
       "      <th>4</th>\n",
       "      <td>5</td>\n",
       "      <td>Semifragile</td>\n",
       "      <td>120.0</td>\n",
       "    </tr>\n",
       "  </tbody>\n",
       "</table>\n",
       "</div>"
      ],
      "text/plain": [
       "   Shipment     CargType  CosoShipment\n",
       "0         1  Semifragile          84.0\n",
       "1         2      Durable          24.0\n",
       "2         3      Fragile         165.6\n",
       "3         4      Fragile         133.2\n",
       "4         5  Semifragile         120.0"
      ]
     },
     "execution_count": 112,
     "metadata": {},
     "output_type": "execute_result"
    }
   ],
   "source": [
    "MLR_Courier.head()"
   ]
  },
  {
   "cell_type": "code",
   "execution_count": 113,
   "id": "e72dafa5",
   "metadata": {},
   "outputs": [
    {
     "data": {
      "image/png": "[encoded data removed]",
      "text/plain": [
       "<Figure size 432x288 with 1 Axes>"
      ]
     },
     "metadata": {
      "needs_background": "light"
     },
     "output_type": "display_data"
    }
   ],
   "source": [
    "#separate the other attributes from the predicting attribute\n",
    "x = MLR_Courier.drop('CosoShipment',axis=1)\n",
    "#separte the predicting attribute into Y for model training \n",
    "y = MLR_Courier['CosoShipment']\n",
    "\n",
    "MLR_Courier['CosoShipment'].plot(kind = 'line')\n",
    "plt.show()"
   ]
  },
  {
   "cell_type": "code",
   "execution_count": 114,
   "id": "4848126c",
   "metadata": {},
   "outputs": [
    {
     "data": {
      "text/html": [
       "<div>\n",
       "<style scoped>\n",
       "    .dataframe tbody tr th:only-of-type {\n",
       "        vertical-align: middle;\n",
       "    }\n",
       "\n",
       "    .dataframe tbody tr th {\n",
       "        vertical-align: top;\n",
       "    }\n",
       "\n",
       "    .dataframe thead th {\n",
       "        text-align: right;\n",
       "    }\n",
       "</style>\n",
       "<table border=\"1\" class=\"dataframe\">\n",
       "  <thead>\n",
       "    <tr style=\"text-align: right;\">\n",
       "      <th></th>\n",
       "      <th>Shipment</th>\n",
       "      <th>CosoShipment</th>\n",
       "      <th>Shipment</th>\n",
       "      <th>CargType_Fragile</th>\n",
       "      <th>CargType_Semifragile</th>\n",
       "    </tr>\n",
       "  </thead>\n",
       "  <tbody>\n",
       "    <tr>\n",
       "      <th>0</th>\n",
       "      <td>1</td>\n",
       "      <td>84.0</td>\n",
       "      <td>1</td>\n",
       "      <td>0</td>\n",
       "      <td>1</td>\n",
       "    </tr>\n",
       "    <tr>\n",
       "      <th>1</th>\n",
       "      <td>2</td>\n",
       "      <td>24.0</td>\n",
       "      <td>2</td>\n",
       "      <td>0</td>\n",
       "      <td>0</td>\n",
       "    </tr>\n",
       "    <tr>\n",
       "      <th>2</th>\n",
       "      <td>3</td>\n",
       "      <td>165.6</td>\n",
       "      <td>3</td>\n",
       "      <td>1</td>\n",
       "      <td>0</td>\n",
       "    </tr>\n",
       "    <tr>\n",
       "      <th>3</th>\n",
       "      <td>4</td>\n",
       "      <td>133.2</td>\n",
       "      <td>4</td>\n",
       "      <td>1</td>\n",
       "      <td>0</td>\n",
       "    </tr>\n",
       "    <tr>\n",
       "      <th>4</th>\n",
       "      <td>5</td>\n",
       "      <td>120.0</td>\n",
       "      <td>5</td>\n",
       "      <td>0</td>\n",
       "      <td>1</td>\n",
       "    </tr>\n",
       "    <tr>\n",
       "      <th>5</th>\n",
       "      <td>6</td>\n",
       "      <td>206.4</td>\n",
       "      <td>6</td>\n",
       "      <td>1</td>\n",
       "      <td>0</td>\n",
       "    </tr>\n",
       "    <tr>\n",
       "      <th>6</th>\n",
       "      <td>7</td>\n",
       "      <td>138.0</td>\n",
       "      <td>7</td>\n",
       "      <td>0</td>\n",
       "      <td>1</td>\n",
       "    </tr>\n",
       "    <tr>\n",
       "      <th>7</th>\n",
       "      <td>8</td>\n",
       "      <td>78.0</td>\n",
       "      <td>8</td>\n",
       "      <td>0</td>\n",
       "      <td>1</td>\n",
       "    </tr>\n",
       "    <tr>\n",
       "      <th>8</th>\n",
       "      <td>9</td>\n",
       "      <td>102.0</td>\n",
       "      <td>9</td>\n",
       "      <td>0</td>\n",
       "      <td>1</td>\n",
       "    </tr>\n",
       "    <tr>\n",
       "      <th>9</th>\n",
       "      <td>10</td>\n",
       "      <td>25.2</td>\n",
       "      <td>10</td>\n",
       "      <td>0</td>\n",
       "      <td>0</td>\n",
       "    </tr>\n",
       "    <tr>\n",
       "      <th>10</th>\n",
       "      <td>11</td>\n",
       "      <td>130.8</td>\n",
       "      <td>11</td>\n",
       "      <td>1</td>\n",
       "      <td>0</td>\n",
       "    </tr>\n",
       "    <tr>\n",
       "      <th>11</th>\n",
       "      <td>12</td>\n",
       "      <td>144.0</td>\n",
       "      <td>12</td>\n",
       "      <td>1</td>\n",
       "      <td>0</td>\n",
       "    </tr>\n",
       "    <tr>\n",
       "      <th>12</th>\n",
       "      <td>13</td>\n",
       "      <td>90.0</td>\n",
       "      <td>13</td>\n",
       "      <td>0</td>\n",
       "      <td>0</td>\n",
       "    </tr>\n",
       "    <tr>\n",
       "      <th>13</th>\n",
       "      <td>14</td>\n",
       "      <td>40.8</td>\n",
       "      <td>14</td>\n",
       "      <td>0</td>\n",
       "      <td>0</td>\n",
       "    </tr>\n",
       "    <tr>\n",
       "      <th>14</th>\n",
       "      <td>15</td>\n",
       "      <td>15.6</td>\n",
       "      <td>15</td>\n",
       "      <td>0</td>\n",
       "      <td>0</td>\n",
       "    </tr>\n",
       "  </tbody>\n",
       "</table>\n",
       "</div>"
      ],
      "text/plain": [
       "    Shipment  CosoShipment  Shipment  CargType_Fragile  CargType_Semifragile\n",
       "0          1          84.0         1                 0                     1\n",
       "1          2          24.0         2                 0                     0\n",
       "2          3         165.6         3                 1                     0\n",
       "3          4         133.2         4                 1                     0\n",
       "4          5         120.0         5                 0                     1\n",
       "5          6         206.4         6                 1                     0\n",
       "6          7         138.0         7                 0                     1\n",
       "7          8          78.0         8                 0                     1\n",
       "8          9         102.0         9                 0                     1\n",
       "9         10          25.2        10                 0                     0\n",
       "10        11         130.8        11                 1                     0\n",
       "11        12         144.0        12                 1                     0\n",
       "12        13          90.0        13                 0                     0\n",
       "13        14          40.8        14                 0                     0\n",
       "14        15          15.6        15                 0                     0"
      ]
     },
     "execution_count": 114,
     "metadata": {},
     "output_type": "execute_result"
    }
   ],
   "source": [
    "# handle categorical variable\n",
    "CargType=pd.get_dummies(x,drop_first=True)\n",
    "# dropping extra column\n",
    "x= MLR_Courier.drop('CargType',axis=1)\n",
    "# concatation of independent variables and new cateorical variable.\n",
    "x=pd.concat([x,CargType],axis=1)\n",
    "x"
   ]
  },
  {
   "cell_type": "code",
   "execution_count": 115,
   "id": "c0bd44c8",
   "metadata": {
    "scrolled": true
   },
   "outputs": [],
   "source": [
    "from sklearn.model_selection import train_test_split\n",
    "# splitting the data\n",
    "x_train, x_test, y_train, y_test = train_test_split(x, y, test_size = 0.2, random_state = 100)"
   ]
  },
  {
   "cell_type": "code",
   "execution_count": 116,
   "id": "e7223e59",
   "metadata": {},
   "outputs": [
    {
     "data": {
      "text/plain": [
       "LinearRegression()"
      ]
     },
     "execution_count": 116,
     "metadata": {},
     "output_type": "execute_result"
    }
   ],
   "source": [
    "#Fitting the Multiple Linear Regression model\n",
    "mlr =  LinearRegression()  \n",
    "mlr.fit(x_train, y_train)"
   ]
  },
  {
   "cell_type": "code",
   "execution_count": 117,
   "id": "7e251252",
   "metadata": {},
   "outputs": [
    {
     "name": "stdout",
     "output_type": "stream",
     "text": [
      "                            OLS Regression Results                            \n",
      "==============================================================================\n",
      "Dep. Variable:           CosoShipment   R-squared:                       1.000\n",
      "Model:                            OLS   Adj. R-squared:                  1.000\n",
      "Method:                 Least Squares   F-statistic:                 5.129e+29\n",
      "Date:                Tue, 06 Sep 2022   Prob (F-statistic):          1.80e-117\n",
      "Time:                        11:10:19   Log-Likelihood:                 340.46\n",
      "No. Observations:                  12   AIC:                            -672.9\n",
      "Df Residuals:                       8   BIC:                            -671.0\n",
      "Df Model:                           3                                         \n",
      "Covariance Type:            nonrobust                                         \n",
      "========================================================================================\n",
      "                           coef    std err          t      P>|t|      [0.025      0.975]\n",
      "----------------------------------------------------------------------------------------\n",
      "const                 2.665e-14   1.11e-13      0.240      0.816    -2.3e-13    2.83e-13\n",
      "CosoShipment             1.0000   1.72e-15   5.81e+14      0.000       1.000       1.000\n",
      "CargType_Fragile     -4.974e-14    2.5e-13     -0.199      0.847   -6.26e-13    5.26e-13\n",
      "CargType_Semifragile  -1.51e-14   1.77e-13     -0.085      0.934   -4.22e-13    3.92e-13\n",
      "==============================================================================\n",
      "Omnibus:                        0.648   Durbin-Watson:                   0.520\n",
      "Prob(Omnibus):                  0.723   Jarque-Bera (JB):                0.592\n",
      "Skew:                          -0.178   Prob(JB):                        0.744\n",
      "Kurtosis:                       1.972   Cond. No.                         905.\n",
      "==============================================================================\n",
      "\n",
      "Notes:\n",
      "[1] Standard Errors assume that the covariance matrix of the errors is correctly specified.\n"
     ]
    }
   ],
   "source": [
    "x = x_train.drop('Shipment', 1,)\n",
    "\n",
    "# Build a fitted model after dropping the variable\n",
    "x_train_lm = sm.add_constant(x)\n",
    "\n",
    "lr_3 = sm.OLS(y_train, x_train_lm).fit()\n",
    "\n",
    "# Printing the summary of the model\n",
    "print(lr_3.summary())"
   ]
  },
  {
   "cell_type": "code",
   "execution_count": 119,
   "id": "2230e033",
   "metadata": {},
   "outputs": [
    {
     "name": "stdout",
     "output_type": "stream",
     "text": [
      "Intercept:  2.842170943040401e-14\n",
      "Coefficients:\n"
     ]
    },
    {
     "data": {
      "text/plain": [
       "[('CosoShipment', 3.052497204094245e-16),\n",
       " ('CargType_Fragile', 0.9999999999999998),\n",
       " ('CargType_Semifragile', 3.778013861644499e-16)]"
      ]
     },
     "execution_count": 119,
     "metadata": {},
     "output_type": "execute_result"
    }
   ],
   "source": [
    "#Intercept and Coefficient\n",
    "print(\"Intercept: \", mlr.intercept_)\n",
    "print(\"Coefficients:\")\n",
    "list(zip(x, mlr.coef_))"
   ]
  },
  {
   "cell_type": "code",
   "execution_count": null,
   "id": "2d154cef",
   "metadata": {},
   "outputs": [],
   "source": [
    "CosoShipment = 2.8422 +  "
   ]
  },
  {
   "cell_type": "code",
   "execution_count": 91,
   "id": "25de8f61",
   "metadata": {},
   "outputs": [
    {
     "data": {
      "text/plain": [
       "LinearRegression()"
      ]
     },
     "execution_count": 91,
     "metadata": {},
     "output_type": "execute_result"
    }
   ],
   "source": [
    "# importing module\n",
    "from sklearn.linear_model import LinearRegression\n",
    "# creating an object of LinearRegression class\n",
    "LR = LinearRegression()\n",
    "# fitting the training data\n",
    "LR.fit(x_train,y_train)"
   ]
  },
  {
   "cell_type": "code",
   "execution_count": 107,
   "id": "6c59031e",
   "metadata": {},
   "outputs": [
    {
     "data": {
      "text/plain": [
       "array([25.2, 24. , 90. ])"
      ]
     },
     "execution_count": 107,
     "metadata": {},
     "output_type": "execute_result"
    }
   ],
   "source": [
    "y_prediction =  LR.predict(x_test)\n",
    "y_prediction"
   ]
  },
  {
   "cell_type": "code",
   "execution_count": 108,
   "id": "aaa45e5d",
   "metadata": {},
   "outputs": [
    {
     "name": "stdout",
     "output_type": "stream",
     "text": [
      "r2 score is 1.0\n",
      "mean_sqrd_error is== 1.0307782494887888e-27\n",
      "root_mean_squared error of is== 3.210573546095446e-14\n"
     ]
    }
   ],
   "source": [
    "# importing r2_score module\n",
    "from sklearn.metrics import r2_score\n",
    "from sklearn.metrics import mean_squared_error\n",
    "# predicting the accuracy score\n",
    "score=r2_score(y_test,y_prediction)\n",
    "print('r2 score is' ,score)\n",
    "print('mean_sqrd_error is==',mean_squared_error(y_test,y_prediction))\n",
    "print('root_mean_squared error of is==',np.sqrt(mean_squared_error(y_test,y_prediction)))"
   ]
  },
  {
   "cell_type": "markdown",
   "id": "2b442805",
   "metadata": {},
   "source": [
    "We see that the accuracy score (r2 score) is 1.0, this means we can use this model to solve multiple linear regression. In addition to this, the mean squared error rate is also low."
   ]
  },
  {
   "cell_type": "markdown",
   "id": "09b09668",
   "metadata": {},
   "source": [
    "#### Q3: MLR with multiple variables – Employee Salary\n",
    "An HR analyst in Unitech Pvt Ltd, wants to predict the annual salaries of given\n",
    "employees using the potential explanatory variables in the file\n",
    "#### MLR_EmpSalary.csv\n",
    "1) Estimate the appropriate multiple linear regression equation to predict the salary of\n",
    "an Unitech employee using all explanatory variables.\n",
    "2) Do we need to exclude certain columns? Why?\n",
    "3) Which department employees are paid the highest? By how much?\n",
    "4) Do you see any discrimination in salaries earned by male and female employees?\n",
    "5) What would be the estimated salary of a Data Scientist (joining engineering) with 10\n",
    "years of work experience. This woman has 18 years of total education, and will be\n",
    "supervising 4 junior employees."
   ]
  },
  {
   "cell_type": "code",
   "execution_count": 126,
   "id": "218fc945",
   "metadata": {},
   "outputs": [],
   "source": [
    "MLR_EmpSalary = pd.read_csv(\"C:\\\\Users\\\\theco\\\\MLR_EmpSalary.csv\")"
   ]
  },
  {
   "cell_type": "code",
   "execution_count": 127,
   "id": "140d333f",
   "metadata": {},
   "outputs": [
    {
     "data": {
      "text/html": [
       "<div>\n",
       "<style scoped>\n",
       "    .dataframe tbody tr th:only-of-type {\n",
       "        vertical-align: middle;\n",
       "    }\n",
       "\n",
       "    .dataframe tbody tr th {\n",
       "        vertical-align: top;\n",
       "    }\n",
       "\n",
       "    .dataframe thead th {\n",
       "        text-align: right;\n",
       "    }\n",
       "</style>\n",
       "<table border=\"1\" class=\"dataframe\">\n",
       "  <thead>\n",
       "    <tr style=\"text-align: right;\">\n",
       "      <th></th>\n",
       "      <th>Employee</th>\n",
       "      <th>Salary</th>\n",
       "      <th>PreviousExp</th>\n",
       "      <th>YearsEmployed</th>\n",
       "      <th>YearsEducation</th>\n",
       "      <th>DirectRepotees</th>\n",
       "      <th>Female</th>\n",
       "      <th>Male</th>\n",
       "      <th>Engineering</th>\n",
       "      <th>Sales</th>\n",
       "      <th>Other</th>\n",
       "    </tr>\n",
       "  </thead>\n",
       "  <tbody>\n",
       "    <tr>\n",
       "      <th>0</th>\n",
       "      <td>1</td>\n",
       "      <td>$65,487</td>\n",
       "      <td>0</td>\n",
       "      <td>27</td>\n",
       "      <td>22</td>\n",
       "      <td>44</td>\n",
       "      <td>0</td>\n",
       "      <td>1</td>\n",
       "      <td>1</td>\n",
       "      <td>0</td>\n",
       "      <td>0</td>\n",
       "    </tr>\n",
       "    <tr>\n",
       "      <th>1</th>\n",
       "      <td>2</td>\n",
       "      <td>$46,184</td>\n",
       "      <td>3</td>\n",
       "      <td>20</td>\n",
       "      <td>14</td>\n",
       "      <td>1</td>\n",
       "      <td>1</td>\n",
       "      <td>0</td>\n",
       "      <td>1</td>\n",
       "      <td>0</td>\n",
       "      <td>0</td>\n",
       "    </tr>\n",
       "    <tr>\n",
       "      <th>2</th>\n",
       "      <td>3</td>\n",
       "      <td>$32,782</td>\n",
       "      <td>1</td>\n",
       "      <td>0</td>\n",
       "      <td>17</td>\n",
       "      <td>0</td>\n",
       "      <td>1</td>\n",
       "      <td>0</td>\n",
       "      <td>0</td>\n",
       "      <td>1</td>\n",
       "      <td>0</td>\n",
       "    </tr>\n",
       "    <tr>\n",
       "      <th>3</th>\n",
       "      <td>4</td>\n",
       "      <td>$54,899</td>\n",
       "      <td>5</td>\n",
       "      <td>12</td>\n",
       "      <td>18</td>\n",
       "      <td>0</td>\n",
       "      <td>0</td>\n",
       "      <td>1</td>\n",
       "      <td>1</td>\n",
       "      <td>0</td>\n",
       "      <td>0</td>\n",
       "    </tr>\n",
       "    <tr>\n",
       "      <th>4</th>\n",
       "      <td>5</td>\n",
       "      <td>$34,869</td>\n",
       "      <td>5</td>\n",
       "      <td>7</td>\n",
       "      <td>14</td>\n",
       "      <td>1</td>\n",
       "      <td>0</td>\n",
       "      <td>1</td>\n",
       "      <td>1</td>\n",
       "      <td>0</td>\n",
       "      <td>0</td>\n",
       "    </tr>\n",
       "  </tbody>\n",
       "</table>\n",
       "</div>"
      ],
      "text/plain": [
       "   Employee   Salary  PreviousExp  YearsEmployed  YearsEducation  \\\n",
       "0         1  $65,487            0             27              22   \n",
       "1         2  $46,184            3             20              14   \n",
       "2         3  $32,782            1              0              17   \n",
       "3         4  $54,899            5             12              18   \n",
       "4         5  $34,869            5              7              14   \n",
       "\n",
       "   DirectRepotees  Female  Male  Engineering  Sales  Other  \n",
       "0              44       0     1            1      0      0  \n",
       "1               1       1     0            1      0      0  \n",
       "2               0       1     0            0      1      0  \n",
       "3               0       0     1            1      0      0  \n",
       "4               1       0     1            1      0      0  "
      ]
     },
     "execution_count": 127,
     "metadata": {},
     "output_type": "execute_result"
    }
   ],
   "source": [
    "MLR_EmpSalary.head()"
   ]
  },
  {
   "cell_type": "code",
   "execution_count": 170,
   "id": "b5d4e6c9",
   "metadata": {},
   "outputs": [],
   "source": [
    "from sklearn.model_selection import train_test_split\n",
    "# splitting the data\n",
    "x_train, x_test, y_train, y_test = train_test_split(x, y, train_size = 0.7, test_size = 0.3, random_state = 100)"
   ]
  },
  {
   "cell_type": "code",
   "execution_count": 86,
   "id": "f25aeae0",
   "metadata": {},
   "outputs": [
    {
     "data": {
      "text/plain": [
       "LinearRegression()"
      ]
     },
     "execution_count": 86,
     "metadata": {},
     "output_type": "execute_result"
    }
   ],
   "source": [
    "# importing module\n",
    "from sklearn.linear_model import LinearRegression\n",
    "# creating an object of LinearRegression class\n",
    "LR = LinearRegression()\n",
    "# fitting the training data\n",
    "LR.fit(x_train,y_train)"
   ]
  },
  {
   "cell_type": "code",
   "execution_count": 87,
   "id": "61fb1d77",
   "metadata": {},
   "outputs": [
    {
     "data": {
      "text/plain": [
       "array([ 25.2, 144. ,  84. ])"
      ]
     },
     "execution_count": 87,
     "metadata": {},
     "output_type": "execute_result"
    }
   ],
   "source": [
    "y_prediction =  LR.predict(x_test)\n",
    "y_prediction"
   ]
  },
  {
   "cell_type": "code",
   "execution_count": 89,
   "id": "1652dd9e",
   "metadata": {},
   "outputs": [
    {
     "name": "stdout",
     "output_type": "stream",
     "text": [
      "r2 score is 1.0\n",
      "mean_sqrd_error is== 1.430467774800768e-27\n",
      "root_mean_squared error of is== 3.782152528390107e-14\n"
     ]
    }
   ],
   "source": [
    "# importing r2_score module\n",
    "from sklearn.metrics import r2_score\n",
    "from sklearn.metrics import mean_squared_error\n",
    "# predicting the accuracy score\n",
    "score=r2_score(y_test,y_prediction)\n",
    "print('r2 score is' ,score)\n",
    "print('mean_sqrd_error is==',mean_squared_error(y_test,y_prediction))\n",
    "print('root_mean_squared error of is==',np.sqrt(mean_squared_error(y_test,y_prediction)))"
   ]
  },
  {
   "cell_type": "markdown",
   "id": "9e07a6ba",
   "metadata": {},
   "source": [
    "We see that the accuracy score is 1.0, this means we can use this model to solve multiple linear regression,\n",
    "and also mean squared error rate is also low."
   ]
  },
  {
   "cell_type": "markdown",
   "id": "a9d76a2d",
   "metadata": {},
   "source": [
    "#### Q4: MLR with Interaction effect – Stock Price Prediction\n",
    "Stock market analyst are continually looking for reliable predictors of stock price.\n",
    "Consider the problem of modelling the stock price of Utility companies. Two variable\n",
    "that are though to influence the stock price(Y) are return of average equity (ROE) and\n",
    "annual dividend rate.\n",
    "Data for 16 utility stocks are provided in the file\n",
    "#### MLR_StockPrice.csv\n",
    "1) Estimate the MLR equation from the given dataset\n",
    "2) Interpret the Adjusted R-Squared value and each of the coefficients\n",
    "3) Revise the Stock Price prediction model for utility companies, to include and\n",
    "interaction term between ROE and Annual dividend rate. Does this new model fit\n",
    "the data better than was done in Problem 10."
   ]
  },
  {
   "cell_type": "code",
   "execution_count": 181,
   "id": "c62c39da",
   "metadata": {},
   "outputs": [],
   "source": [
    "MLR_StockPrice = pd.read_csv(\"C:\\\\Users\\\\theco\\\\MLR_StockPrice.csv\")"
   ]
  },
  {
   "cell_type": "code",
   "execution_count": 182,
   "id": "bd3773e2",
   "metadata": {},
   "outputs": [
    {
     "data": {
      "text/html": [
       "<div>\n",
       "<style scoped>\n",
       "    .dataframe tbody tr th:only-of-type {\n",
       "        vertical-align: middle;\n",
       "    }\n",
       "\n",
       "    .dataframe tbody tr th {\n",
       "        vertical-align: top;\n",
       "    }\n",
       "\n",
       "    .dataframe thead th {\n",
       "        text-align: right;\n",
       "    }\n",
       "</style>\n",
       "<table border=\"1\" class=\"dataframe\">\n",
       "  <thead>\n",
       "    <tr style=\"text-align: right;\">\n",
       "      <th></th>\n",
       "      <th>Electric Utility</th>\n",
       "      <th>Stock Price</th>\n",
       "      <th>ROE</th>\n",
       "      <th>Dividend</th>\n",
       "    </tr>\n",
       "  </thead>\n",
       "  <tbody>\n",
       "    <tr>\n",
       "      <th>0</th>\n",
       "      <td>1</td>\n",
       "      <td>$23</td>\n",
       "      <td>13.7</td>\n",
       "      <td>2.36</td>\n",
       "    </tr>\n",
       "    <tr>\n",
       "      <th>1</th>\n",
       "      <td>2</td>\n",
       "      <td>$34</td>\n",
       "      <td>12.8</td>\n",
       "      <td>3.12</td>\n",
       "    </tr>\n",
       "    <tr>\n",
       "      <th>2</th>\n",
       "      <td>3</td>\n",
       "      <td>$20</td>\n",
       "      <td>6.9</td>\n",
       "      <td>2.48</td>\n",
       "    </tr>\n",
       "    <tr>\n",
       "      <th>3</th>\n",
       "      <td>4</td>\n",
       "      <td>$24</td>\n",
       "      <td>12.7</td>\n",
       "      <td>2.36</td>\n",
       "    </tr>\n",
       "    <tr>\n",
       "      <th>4</th>\n",
       "      <td>5</td>\n",
       "      <td>$20</td>\n",
       "      <td>15.3</td>\n",
       "      <td>1.92</td>\n",
       "    </tr>\n",
       "  </tbody>\n",
       "</table>\n",
       "</div>"
      ],
      "text/plain": [
       "   Electric Utility Stock Price   ROE  Dividend\n",
       "0                 1         $23  13.7      2.36\n",
       "1                 2         $34  12.8      3.12\n",
       "2                 3         $20   6.9      2.48\n",
       "3                 4         $24  12.7      2.36\n",
       "4                 5         $20  15.3      1.92"
      ]
     },
     "execution_count": 182,
     "metadata": {},
     "output_type": "execute_result"
    }
   ],
   "source": [
    "MLR_StockPrice.head()"
   ]
  },
  {
   "cell_type": "code",
   "execution_count": 193,
   "id": "026a71dd",
   "metadata": {},
   "outputs": [],
   "source": [
    "x = MLR_StockPrice[['ROE', 'Dividend']]\n",
    "y = MLR_StockPrice['Stock Price']"
   ]
  },
  {
   "cell_type": "code",
   "execution_count": 194,
   "id": "faf0b83b",
   "metadata": {},
   "outputs": [],
   "source": [
    "# Splitting the varaibles as training and testing\n",
    "from sklearn.model_selection import train_test_split\n",
    "x_train, x_test, y_train, y_test = train_test_split(x, y, train_size = 0.7, \n",
    "                                                    test_size = 0.3, random_state = 100)"
   ]
  }
 ],
 "metadata": {
  "kernelspec": {
   "display_name": "Python 3 (ipykernel)",
   "language": "python",
   "name": "python3"
  },
  "language_info": {
   "codemirror_mode": {
    "name": "ipython",
    "version": 3
   },
   "file_extension": ".py",
   "mimetype": "text/x-python",
   "name": "python",
   "nbconvert_exporter": "python",
   "pygments_lexer": "ipython3",
   "version": "3.9.12"
  }
 },
 "nbformat": 4,
 "nbformat_minor": 5
}
